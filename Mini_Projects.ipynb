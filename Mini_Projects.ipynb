{
  "nbformat": 4,
  "nbformat_minor": 0,
  "metadata": {
    "colab": {
      "name": "Mini-Projects.ipynb",
      "provenance": [],
      "authorship_tag": "ABX9TyPawMeU6xGpzy5nfW8utMS9",
      "include_colab_link": true
    },
    "kernelspec": {
      "name": "python3",
      "display_name": "Python 3"
    }
  },
  "cells": [
    {
      "cell_type": "markdown",
      "metadata": {
        "id": "view-in-github",
        "colab_type": "text"
      },
      "source": [
        "<a href=\"https://colab.research.google.com/github/NahshonBright/Python-Projects/blob/main/Mini_Projects.ipynb\" target=\"_parent\"><img src=\"https://colab.research.google.com/assets/colab-badge.svg\" alt=\"Open In Colab\"/></a>"
      ]
    },
    {
      "cell_type": "markdown",
      "metadata": {
        "id": "4MFgZLPUJj_q"
      },
      "source": [
        "1. String Concatenation"
      ]
    },
    {
      "cell_type": "code",
      "metadata": {
        "id": "48biuRejdosV",
        "colab": {
          "base_uri": "https://localhost:8080/"
        },
        "outputId": "13054681-8822-4af8-841b-6eb839000e64"
      },
      "source": [
        "var1 = input('var1:')\r\n",
        "var2 = input('var2:')\r\n",
        "sentence = f'The 1st variable is {var1} and the 2nd variable is {var2}'\r\n",
        "sentence2='The 1st variable is {} and the 2nd variable is {}'.format(var1, var2)\r\n",
        "print(sentence)\r\n",
        "print(sentence2)"
      ],
      "execution_count": 1,
      "outputs": [
        {
          "output_type": "stream",
          "text": [
            "var1:45\n",
            "var2:46\n",
            "The 1st variable is 45 and the 2nd variable is 46\n",
            "The 1st variable is 45 and the 2nd variable is 46\n"
          ],
          "name": "stdout"
        }
      ]
    },
    {
      "cell_type": "code",
      "metadata": {
        "id": "CJ1pTr3xKa4l"
      },
      "source": [
        ""
      ],
      "execution_count": null,
      "outputs": []
    }
  ]
}