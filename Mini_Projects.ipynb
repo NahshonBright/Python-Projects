{
  "nbformat": 4,
  "nbformat_minor": 0,
  "metadata": {
    "colab": {
      "name": "Mini-Projects.ipynb",
      "provenance": [],
      "include_colab_link": true
    },
    "kernelspec": {
      "name": "python3",
      "display_name": "Python 3"
    }
  },
  "cells": [
    {
      "cell_type": "markdown",
      "metadata": {
        "id": "view-in-github",
        "colab_type": "text"
      },
      "source": [
        "<a href=\"https://colab.research.google.com/github/NahshonBright/Python-Projects/blob/main/Mini_Projects.ipynb\" target=\"_parent\"><img src=\"https://colab.research.google.com/assets/colab-badge.svg\" alt=\"Open In Colab\"/></a>"
      ]
    },
    {
      "cell_type": "markdown",
      "metadata": {
        "id": "4MFgZLPUJj_q"
      },
      "source": [
        "####1. String Concatenation"
      ]
    },
    {
      "cell_type": "code",
      "metadata": {
        "id": "48biuRejdosV",
        "colab": {
          "base_uri": "https://localhost:8080/"
        },
        "outputId": "13054681-8822-4af8-841b-6eb839000e64"
      },
      "source": [
        "var1 = input('var1:')\r\n",
        "var2 = input('var2:')\r\n",
        "sentence = f'The 1st variable is {var1} and the 2nd variable is {var2}'\r\n",
        "sentence2='The 1st variable is {} and the 2nd variable is {}'.format(var1, var2)\r\n",
        "print(sentence)\r\n",
        "print(sentence2)"
      ],
      "execution_count": null,
      "outputs": [
        {
          "output_type": "stream",
          "text": [
            "var1:45\n",
            "var2:46\n",
            "The 1st variable is 45 and the 2nd variable is 46\n",
            "The 1st variable is 45 and the 2nd variable is 46\n"
          ],
          "name": "stdout"
        }
      ]
    },
    {
      "cell_type": "markdown",
      "metadata": {
        "id": "-E5iaiNYXVDh"
      },
      "source": [
        "####2. Guess the random number"
      ]
    },
    {
      "cell_type": "code",
      "metadata": {
        "id": "CJ1pTr3xKa4l"
      },
      "source": [
        "import random\r\n",
        "\r\n",
        "\r\n",
        "def guess(x):\r\n",
        "  ran_no = random.randint(1,x)\r\n",
        "  guess = 0\r\n",
        "  while guess != ran_no:\r\n",
        "    guess = int(input(f'Enter a number between 1 and {x}:'))\r\n",
        "    if guess < ran_no:\r\n",
        "      print('guess a higher no')\r\n",
        "    elif guess > ran_no:\r\n",
        "      print('guess a lower no')\r\n",
        "  print(f'you have guessed the right no {ran_no}')"
      ],
      "execution_count": 1,
      "outputs": []
    },
    {
      "cell_type": "code",
      "metadata": {
        "id": "wvyerN1SXgGw",
        "colab": {
          "base_uri": "https://localhost:8080/"
        },
        "outputId": "0be7812e-636f-48d3-ab76-e1204b179a6e"
      },
      "source": [
        "guess(10)                    # try different values in place of 10  "
      ],
      "execution_count": 2,
      "outputs": [
        {
          "output_type": "stream",
          "text": [
            "Enter a number between 1 and 10:7\n",
            "guess a higher no\n",
            "Enter a number between 1 and 10:9\n",
            "guess a lower no\n",
            "Enter a number between 1 and 10:8\n",
            "you have guessed the right no 8\n"
          ],
          "name": "stdout"
        }
      ]
    },
    {
      "cell_type": "code",
      "metadata": {
        "id": "OsNu5NQoYoFk"
      },
      "source": [
        ""
      ],
      "execution_count": null,
      "outputs": []
    }
  ]
}